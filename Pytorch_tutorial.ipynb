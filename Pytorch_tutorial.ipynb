{
  "nbformat": 4,
  "nbformat_minor": 0,
  "metadata": {
    "colab": {
      "provenance": [],
      "include_colab_link": true
    },
    "kernelspec": {
      "name": "python3",
      "display_name": "Python 3"
    },
    "accelerator": "GPU"
  },
  "cells": [
    {
      "cell_type": "markdown",
      "metadata": {
        "id": "view-in-github",
        "colab_type": "text"
      },
      "source": [
        "<a href=\"https://colab.research.google.com/github/sy052/AI_vision_study/blob/0111/Pytorch_tutorial.ipynb\" target=\"_parent\"><img src=\"https://colab.research.google.com/assets/colab-badge.svg\" alt=\"Open In Colab\"/></a>"
      ]
    },
    {
      "cell_type": "markdown",
      "source": [
        "#Single layer Neural Network"
      ],
      "metadata": {
        "id": "1wt7THicEEjr"
      }
    },
    {
      "cell_type": "code",
      "metadata": {
        "id": "ry2_6hwlGOGm",
        "colab": {
          "base_uri": "https://localhost:8080/"
        },
        "outputId": "ce8d61f4-427d-430e-cb84-6b682d7e75e1"
      },
      "source": [
        "import torch\n",
        "\n",
        "dtype = torch.float\n",
        "if torch.cuda.is_available():\n",
        "    device = torch.device(\"cuda:0\")\n",
        "else:\n",
        "    device = torch.device(\"cpu\")\n",
        "print(f'device is {device}')\n",
        "\n",
        "# N is batch size;\n",
        "# D_in is input dimension;\n",
        "# H is hidden dimension;\n",
        "# D_out is output dimension.\n",
        "N, D_in, H, D_out = 64, 1000, 100, 10\n",
        "\n",
        "# Create random input and output data\n",
        "x = torch.randn(N, D_in, device=device, dtype=dtype)\n",
        "y = torch.randn(N, D_out, device=device, dtype=dtype)"
      ],
      "execution_count": null,
      "outputs": [
        {
          "output_type": "stream",
          "name": "stdout",
          "text": [
            "device is cuda:0\n"
          ]
        }
      ]
    },
    {
      "cell_type": "markdown",
      "metadata": {
        "id": "Vnz7cx_YP2d5"
      },
      "source": [
        "# Without AutoGrad"
      ]
    },
    {
      "cell_type": "code",
      "metadata": {
        "id": "2W0QxqN0Pxo5",
        "colab": {
          "base_uri": "https://localhost:8080/"
        },
        "outputId": "766d4309-c3cb-4554-b8fd-52cd49cbe99d"
      },
      "source": [
        "# Randomly initialize weights\n",
        "w1 = torch.randn(D_in, H, device=device, dtype=dtype)\n",
        "w2 = torch.randn(H, D_out, device=device, dtype=dtype)\n",
        "\n",
        "learning_rate = 1e-6\n",
        "for t in range(500):\n",
        "    # Forward pass: compute predicted y\n",
        "    h = x.mm(w1)\n",
        "    h_relu = h.clamp(min=0)\n",
        "    y_pred = h_relu.mm(w2)\n",
        "\n",
        "    # Compute and print loss\n",
        "    loss = (y_pred - y).pow(2).sum().item()\n",
        "    if t % 100 == 99:\n",
        "        print(t, loss)\n",
        "\n",
        "    # Backprop to compute gradients of w1 and w2 with respect to loss\n",
        "    grad_y_pred = 2.0 * (y_pred - y)        # (N, D_out)\n",
        "    grad_w2 = h_relu.t().mm(grad_y_pred)    # (N, H)^T * (N, D_out)      = (H, D_out)\n",
        "    grad_h_relu = grad_y_pred.mm(w2.t())    # (N, D_out) * (H, D_out)^T  = (N, H)\n",
        "    grad_h = grad_h_relu.clone()            # (N, H)\n",
        "    grad_h[h < 0] = 0                       # (N, H)\n",
        "    grad_w1 = x.t().mm(grad_h)              # (N, D_in)^T * (N, H)       = (D_in, H)\n",
        "\n",
        "    # Update weights using gradient descent\n",
        "    w1 -= learning_rate * grad_w1\n",
        "    w2 -= learning_rate * grad_w2"
      ],
      "execution_count": null,
      "outputs": [
        {
          "output_type": "stream",
          "name": "stdout",
          "text": [
            "99 449.112548828125\n",
            "199 3.7327187061309814\n",
            "299 0.05709697678685188\n",
            "399 0.0013199829263612628\n",
            "499 0.00013176814536564052\n"
          ]
        }
      ]
    },
    {
      "cell_type": "markdown",
      "metadata": {
        "id": "6TMDu1DsQGtp"
      },
      "source": [
        "# With AutoGrad"
      ]
    },
    {
      "cell_type": "code",
      "metadata": {
        "id": "p5wTIMmIGpiD",
        "colab": {
          "base_uri": "https://localhost:8080/"
        },
        "outputId": "3ce8e1fe-b9e6-44d5-8b80-f61a15c1568f"
      },
      "source": [
        "# Setting requires_grad=True indicates that we want to compute gradients with\n",
        "# respect to these Tensors during the backward pass.\n",
        "w1 = torch.randn(D_in, H, device=device, dtype=dtype, requires_grad=True)\n",
        "w2 = torch.randn(H, D_out, device=device, dtype=dtype, requires_grad=True)\n",
        "\n",
        "learning_rate = 1e-6\n",
        "for t in range(500):\n",
        "    # Forward pass: compute predicted y using operations on Tensors; these\n",
        "    # are exactly the same operations we used to compute the forward pass using\n",
        "    # Tensors, but we do not need to keep references to intermediate values since\n",
        "    # we are not implementing the backward pass by hand.\n",
        "    y_pred = x.mm(w1).clamp(min=0).mm(w2)\n",
        "\n",
        "    # Compute and print loss using operations on Tensors.\n",
        "    # Now loss is a Tensor of shape (1,)\n",
        "    # loss.item() gets the scalar value held in the loss.\n",
        "    loss = (y_pred - y).pow(2).sum()\n",
        "    if t % 100 == 99:\n",
        "        print(t, loss.item())\n",
        "\n",
        "    # Use autograd to compute the backward pass. This call will compute the\n",
        "    # gradient of loss with respect to all Tensors with requires_grad=True.\n",
        "    # After this call w1.grad and w2.grad will be Tensors holding the gradient\n",
        "    # of the loss with respect to w1 and w2 respectively.\n",
        "    loss.backward()\n",
        "\n",
        "    # Manually update weights using gradient descent. Wrap in torch.no_grad()\n",
        "    # because weights have requires_grad=True, but we don't need to track this\n",
        "    # in autograd.\n",
        "    # An alternative way is to operate on weight.data and weight.grad.data.\n",
        "    # Recall that tensor.data gives a tensor that shares the storage with\n",
        "    # tensor, but doesn't track history.\n",
        "    # You can also use torch.optim.SGD to achieve this.\n",
        "    with torch.no_grad():\n",
        "        w1 -= learning_rate * w1.grad\n",
        "        w2 -= learning_rate * w2.grad\n",
        "\n",
        "        # Manually zero the gradients after updating weights\n",
        "        w1.grad.zero_()\n",
        "        w2.grad.zero_()"
      ],
      "execution_count": null,
      "outputs": [
        {
          "output_type": "stream",
          "name": "stdout",
          "text": [
            "99 445.7176513671875\n",
            "199 1.7787296772003174\n",
            "299 0.01117802131921053\n",
            "399 0.00025264997384510934\n",
            "499 4.4197186070960015e-05\n"
          ]
        }
      ]
    },
    {
      "cell_type": "markdown",
      "metadata": {
        "id": "iDuxw-R8Y-im"
      },
      "source": [
        "# Pytorch package : nn"
      ]
    },
    {
      "cell_type": "code",
      "metadata": {
        "id": "YP1Nml5IY_Lp",
        "colab": {
          "base_uri": "https://localhost:8080/"
        },
        "outputId": "3a7b16fa-6ce4-40e4-d735-e99012d66026"
      },
      "source": [
        "# Use the nn package to define our model as a sequence of layers. nn.Sequential\n",
        "# is a Module which contains other Modules, and applies them in sequence to\n",
        "# produce its output. Each Linear Module computes output from input using a\n",
        "# linear function, and holds internal Tensors for its weight and bias.\n",
        "\n",
        "# Replace w1, w2 with torch.nn.Linear()\n",
        "\"\"\"\n",
        "# w1 = torch.randn(D_in, H, device=device, dtype=dtype, requires_grad=True)\n",
        "# w2 = torch.randn(H, D_out, device=device, dtype=dtype, requires_grad=True)\n",
        "\"\"\"\n",
        "model = torch.nn.Sequential(\n",
        "    torch.nn.Linear(D_in, H),\n",
        "    torch.nn.ReLU(),\n",
        "    torch.nn.Linear(H, D_out),\n",
        ")\n",
        "model.to(device)\n",
        "\n",
        "# The nn package also contains definitions of popular loss functions; in this\n",
        "# case we will use Mean Squared Error (MSE) as our loss function.\n",
        "\n",
        "# Replace this with torch.nn.MSELoss() module\n",
        "\n",
        "\"\"\"\n",
        "y_pred = x.mm(w1).clamp(min=0).mm(w2)\n",
        "\"\"\"\n",
        "loss_fn = torch.nn.MSELoss(reduction='sum')\n",
        "\n",
        "learning_rate = 1e-4\n",
        "for t in range(500):\n",
        "    # Forward pass: compute predicted y by passing x to the model. Module objects\n",
        "    # override the __call__ operator so you can call them like functions. When\n",
        "    # doing so you pass a Tensor of input data to the Module and it produces\n",
        "    # a Tensor of output data.\n",
        "    y_pred = model(x)\n",
        "\n",
        "\n",
        "    # Compute and print loss. We pass Tensors containing the predicted and true\n",
        "    # values of y, and the loss function returns a Tensor containing the\n",
        "    # loss.\n",
        "    loss = loss_fn(y_pred, y)\n",
        "\n",
        "    if t % 100 == 99:\n",
        "        print(t, loss.item())\n",
        "\n",
        "    # Zero the gradients before running the backward pass.\n",
        "    model.zero_grad()\n",
        "\n",
        "    # Backward pass: compute gradient of the loss with respect to all the learnable\n",
        "    # parameters of the model. Internally, the parameters of each Module are stored\n",
        "    # in Tensors with requires_grad=True, so this call will compute gradients for\n",
        "    # all learnable parameters in the model.\n",
        "    loss.backward()\n",
        "\n",
        "    # Update the weights using gradient descent. Each parameter is a Tensor, so\n",
        "    # we can access its gradients like we did before.\n",
        "    with torch.no_grad():\n",
        "        for param in model.parameters():\n",
        "            param -= learning_rate * param.grad\n"
      ],
      "execution_count": null,
      "outputs": [
        {
          "output_type": "stream",
          "name": "stdout",
          "text": [
            "99 3.0948915481567383\n",
            "199 0.06251727044582367\n",
            "299 0.0023924540728330612\n",
            "399 0.00011947489838348702\n",
            "499 6.899241270730272e-06\n"
          ]
        }
      ]
    },
    {
      "cell_type": "markdown",
      "metadata": {
        "id": "u1Au9fvjdnih"
      },
      "source": [
        "# Pytorch package : Optim\n",
        "\n",
        "The `optim` package in PyTorch abstracts the idea of an optimization algorithm and provides implementations of commonly used optimization algorithms.\n",
        "\n",
        "More details are here : https://pytorch.org/docs/stable/optim.html\n",
        "\n",
        "Play with other optimizers :\n",
        "- SGD\n",
        "- RMSprop\n",
        "- Adadelta"
      ]
    },
    {
      "cell_type": "code",
      "metadata": {
        "id": "EVxeqLLJacM9",
        "colab": {
          "base_uri": "https://localhost:8080/"
        },
        "outputId": "a20ec6d2-8c66-455c-d4c4-fe6882a9d6e6"
      },
      "source": [
        "# Use the optim package to define an Optimizer that will update the weights of\n",
        "# the model for us. Here we will use Adam; the optim package contains many other\n",
        "# optimization algorithms. The first argument to the Adam constructor tells the\n",
        "# optimizer which Tensors it should update.\n",
        "learning_rate = 1e-4\n",
        "optimizer = torch.optim.Adam(model.parameters(), lr=learning_rate)\n",
        "for t in range(500):\n",
        "    # Forward pass: compute predicted y by passing x to the model.\n",
        "    y_pred = model(x)\n",
        "\n",
        "    # Compute and print loss.\n",
        "    loss = loss_fn(y_pred, y)\n",
        "    if t % 100 == 99:\n",
        "        print(t, loss.item())\n",
        "\n",
        "    # Before the backward pass, use the optimizer object to zero all of the\n",
        "    # gradients for the variables it will update (which are the learnable\n",
        "    # weights of the model). This is because by default, gradients are\n",
        "    # accumulated in buffers( i.e, not overwritten) whenever .backward()\n",
        "    # is called. Checkout docs of torch.autograd.backward for more details.\n",
        "\n",
        "    \"\"\"\n",
        "    model.zero_grad()\n",
        "    \"\"\"\n",
        "    optimizer.zero_grad()\n",
        "\n",
        "    # Backward pass: compute gradient of the loss with respect to model\n",
        "    # parameters\n",
        "    loss.backward()\n",
        "\n",
        "    # Update step : an Optimizer makes an update to its parameters\n",
        "    \"\"\"\n",
        "    with torch.no_grad():\n",
        "        for param in model.parameters():\n",
        "            param -= learning_rate * param.grad\n",
        "    \"\"\"\n",
        "    optimizer.step()"
      ],
      "execution_count": null,
      "outputs": [
        {
          "output_type": "stream",
          "name": "stdout",
          "text": [
            "99 1.0393043794465484e-06\n",
            "199 2.9038927095825784e-05\n",
            "299 0.0005389195866882801\n",
            "399 7.309120701393113e-05\n",
            "499 0.00039210112299770117\n"
          ]
        }
      ]
    },
    {
      "cell_type": "markdown",
      "metadata": {
        "id": "TaMuMa9qfXm2"
      },
      "source": [
        "# Pytorch package : nn.Module"
      ]
    },
    {
      "cell_type": "code",
      "metadata": {
        "id": "zE6on49jfaGB",
        "colab": {
          "base_uri": "https://localhost:8080/"
        },
        "outputId": "8ce01f0b-0baf-4f76-feed-9bd53dee6eec"
      },
      "source": [
        "class TwoLayerNet(torch.nn.Module):\n",
        "    def __init__(self, D_in, H, D_out):\n",
        "        \"\"\"\n",
        "        In the constructor we instantiate two nn.Linear modules and assign them as\n",
        "        member variables.\n",
        "        \"\"\"\n",
        "        super(TwoLayerNet, self).__init__()\n",
        "        self.linear1 = torch.nn.Linear(D_in, H)\n",
        "        self.relu    = torch.nn.ReLU()\n",
        "        self.linear2 = torch.nn.Linear(H, D_out)\n",
        "\n",
        "    def forward(self, x):\n",
        "        \"\"\"\n",
        "        In the forward function we accept a Tensor of input data and we must return\n",
        "        a Tensor of output data. We can use Modules defined in the constructor as\n",
        "        well as arbitrary operators on Tensors.\n",
        "        \"\"\"\n",
        "        # h_relu = self.linear1(x).clamp(min=0)\n",
        "\n",
        "        # Using torch.nn.functional.relu\n",
        "        # h_relu = torch.nn.functional.relu(self.linear1(x))\n",
        "\n",
        "        h_relu = self.relu(self.linear1(x))\n",
        "        y_pred = self.linear2(h_relu)\n",
        "        return y_pred\n",
        "\n",
        "\n",
        "# Construct our model by instantiating the class defined above\n",
        "model = TwoLayerNet(D_in, H, D_out)\n",
        "model.to(device)\n",
        "\n",
        "# Construct our loss function and an Optimizer. The call to model.parameters()\n",
        "# in the SGD constructor will contain the learnable parameters of the two\n",
        "# nn.Linear modules which are members of the model.\n",
        "criterion = torch.nn.MSELoss(reduction='sum')\n",
        "optimizer = torch.optim.SGD(model.parameters(), lr=1e-4)\n",
        "for t in range(500):\n",
        "    # Forward pass: Compute predicted y by passing x to the model\n",
        "    y_pred = model(x)\n",
        "\n",
        "    # Compute and print loss\n",
        "    loss = criterion(y_pred, y)\n",
        "    if t % 100 == 99:\n",
        "        print(t, loss.item())\n",
        "\n",
        "    # Zero gradients, perform a backward pass, and update the weights.\n",
        "    optimizer.zero_grad()\n",
        "    loss.backward()\n",
        "    optimizer.step()"
      ],
      "execution_count": null,
      "outputs": [
        {
          "output_type": "stream",
          "name": "stdout",
          "text": [
            "99 2.728682041168213\n",
            "199 0.06236587464809418\n",
            "299 0.002980167279019952\n",
            "399 0.00017022338579408824\n",
            "499 1.0298238521500025e-05\n"
          ]
        }
      ]
    }
  ]
}